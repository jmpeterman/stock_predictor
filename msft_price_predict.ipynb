{
 "cells": [
  {
   "cell_type": "code",
   "execution_count": 5,
   "id": "facea68a-d23c-4236-abd5-4429d4c432ee",
   "metadata": {},
   "outputs": [],
   "source": [
    "import yfinance as yf"
   ]
  },
  {
   "cell_type": "code",
   "execution_count": 6,
   "id": "494c578d-9a22-4a64-8688-a1516837b0e2",
   "metadata": {},
   "outputs": [],
   "source": [
    "msft = yf.Ticker(\"MSFT\")\n",
    "msft_hist = msft.history(period=\"max\")"
   ]
  },
  {
   "cell_type": "code",
   "execution_count": 7,
   "id": "be0c97c1-c0a8-4013-95de-1ecfd0903185",
   "metadata": {},
   "outputs": [],
   "source": [
    "import os\n",
    "import pandas as Pd\n",
    "\n",
    "DATA_PATH = \"msft_data.json\"\n",
    "\n",
    "if os.path.exists(DATA_PATH):\n",
    "    #read from file if weve already downloaded the data\n",
    "    with open(DATA_PATH) as f:\n",
    "        msft_hit = pd.read_json(DATA_PATH)\n",
    "else:\n",
    "    msft = yf.Ticker(\"MSFT\")\n",
    "    msft_hist = msft.history(period=\"max\")\n",
    "    \n",
    "    #save file to json in case we need it later. prevents having to redownload\n",
    "    msft_hist.to_json(DATA_PATH)"
   ]
  },
  {
   "cell_type": "code",
   "execution_count": 8,
   "id": "53257f44-382b-4959-aff2-885873a37da9",
   "metadata": {},
   "outputs": [
    {
     "data": {
      "text/html": [
       "<div>\n",
       "<style scoped>\n",
       "    .dataframe tbody tr th:only-of-type {\n",
       "        vertical-align: middle;\n",
       "    }\n",
       "\n",
       "    .dataframe tbody tr th {\n",
       "        vertical-align: top;\n",
       "    }\n",
       "\n",
       "    .dataframe thead th {\n",
       "        text-align: right;\n",
       "    }\n",
       "</style>\n",
       "<table border=\"1\" class=\"dataframe\">\n",
       "  <thead>\n",
       "    <tr style=\"text-align: right;\">\n",
       "      <th></th>\n",
       "      <th>Open</th>\n",
       "      <th>High</th>\n",
       "      <th>Low</th>\n",
       "      <th>Close</th>\n",
       "      <th>Volume</th>\n",
       "      <th>Dividends</th>\n",
       "      <th>Stock Splits</th>\n",
       "    </tr>\n",
       "    <tr>\n",
       "      <th>Date</th>\n",
       "      <th></th>\n",
       "      <th></th>\n",
       "      <th></th>\n",
       "      <th></th>\n",
       "      <th></th>\n",
       "      <th></th>\n",
       "      <th></th>\n",
       "    </tr>\n",
       "  </thead>\n",
       "  <tbody>\n",
       "    <tr>\n",
       "      <th>1986-03-13</th>\n",
       "      <td>0.055654</td>\n",
       "      <td>0.063838</td>\n",
       "      <td>0.055654</td>\n",
       "      <td>0.061109</td>\n",
       "      <td>1031788800</td>\n",
       "      <td>0.0</td>\n",
       "      <td>0.0</td>\n",
       "    </tr>\n",
       "    <tr>\n",
       "      <th>1986-03-14</th>\n",
       "      <td>0.061109</td>\n",
       "      <td>0.064384</td>\n",
       "      <td>0.061109</td>\n",
       "      <td>0.063292</td>\n",
       "      <td>308160000</td>\n",
       "      <td>0.0</td>\n",
       "      <td>0.0</td>\n",
       "    </tr>\n",
       "    <tr>\n",
       "      <th>1986-03-17</th>\n",
       "      <td>0.063292</td>\n",
       "      <td>0.064929</td>\n",
       "      <td>0.063292</td>\n",
       "      <td>0.064384</td>\n",
       "      <td>133171200</td>\n",
       "      <td>0.0</td>\n",
       "      <td>0.0</td>\n",
       "    </tr>\n",
       "    <tr>\n",
       "      <th>1986-03-18</th>\n",
       "      <td>0.064384</td>\n",
       "      <td>0.064929</td>\n",
       "      <td>0.062201</td>\n",
       "      <td>0.062746</td>\n",
       "      <td>67766400</td>\n",
       "      <td>0.0</td>\n",
       "      <td>0.0</td>\n",
       "    </tr>\n",
       "    <tr>\n",
       "      <th>1986-03-19</th>\n",
       "      <td>0.062746</td>\n",
       "      <td>0.063292</td>\n",
       "      <td>0.061109</td>\n",
       "      <td>0.061655</td>\n",
       "      <td>47894400</td>\n",
       "      <td>0.0</td>\n",
       "      <td>0.0</td>\n",
       "    </tr>\n",
       "  </tbody>\n",
       "</table>\n",
       "</div>"
      ],
      "text/plain": [
       "                Open      High       Low     Close      Volume  Dividends  \\\n",
       "Date                                                                        \n",
       "1986-03-13  0.055654  0.063838  0.055654  0.061109  1031788800        0.0   \n",
       "1986-03-14  0.061109  0.064384  0.061109  0.063292   308160000        0.0   \n",
       "1986-03-17  0.063292  0.064929  0.063292  0.064384   133171200        0.0   \n",
       "1986-03-18  0.064384  0.064929  0.062201  0.062746    67766400        0.0   \n",
       "1986-03-19  0.062746  0.063292  0.061109  0.061655    47894400        0.0   \n",
       "\n",
       "            Stock Splits  \n",
       "Date                      \n",
       "1986-03-13           0.0  \n",
       "1986-03-14           0.0  \n",
       "1986-03-17           0.0  \n",
       "1986-03-18           0.0  \n",
       "1986-03-19           0.0  "
      ]
     },
     "execution_count": 8,
     "metadata": {},
     "output_type": "execute_result"
    }
   ],
   "source": [
    "msft_hist.head(5)"
   ]
  },
  {
   "cell_type": "code",
   "execution_count": 9,
   "id": "aa2a3091-8afc-41ef-b372-50b66b70d754",
   "metadata": {},
   "outputs": [
    {
     "data": {
      "text/plain": [
       "<AxesSubplot:xlabel='Date'>"
      ]
     },
     "execution_count": 9,
     "metadata": {},
     "output_type": "execute_result"
    },
    {
     "data": {
      "image/png": "[encoded data removed]",
      "text/plain": [
       "<Figure size 432x288 with 1 Axes>"
      ]
     },
     "metadata": {
      "needs_background": "light"
     },
     "output_type": "display_data"
    }
   ],
   "source": [
    "# Visualize microsoft stock prices\n",
    "msft_hist.plot.line(y=\"Close\", use_index=True)"
   ]
  },
  {
   "cell_type": "code",
   "execution_count": 10,
   "id": "3c85c5be-8c44-42a0-84bb-4f65beb8e482",
   "metadata": {},
   "outputs": [],
   "source": [
    "# Ensure we know the actual closing price\n",
    "data = msft_hist[[\"Close\"]]\n",
    "data = data.rename(columns = {'Close':'Actual_Close'})\n",
    "\n",
    "# Setup our target.  This identifies if the price went up or down\n",
    "data[\"Target\"] = msft_hist.rolling(2).apply(lambda x: x.iloc[1] > x.iloc[0])[\"Close\"]"
   ]
  },
  {
   "cell_type": "code",
   "execution_count": 11,
   "id": "a12cab6f-8e4c-4a52-aeb0-5db830b0b6a7",
   "metadata": {},
   "outputs": [
    {
     "data": {
      "text/html": [
       "<div>\n",
       "<style scoped>\n",
       "    .dataframe tbody tr th:only-of-type {\n",
       "        vertical-align: middle;\n",
       "    }\n",
       "\n",
       "    .dataframe tbody tr th {\n",
       "        vertical-align: top;\n",
       "    }\n",
       "\n",
       "    .dataframe thead th {\n",
       "        text-align: right;\n",
       "    }\n",
       "</style>\n",
       "<table border=\"1\" class=\"dataframe\">\n",
       "  <thead>\n",
       "    <tr style=\"text-align: right;\">\n",
       "      <th></th>\n",
       "      <th>Actual_Close</th>\n",
       "      <th>Target</th>\n",
       "    </tr>\n",
       "    <tr>\n",
       "      <th>Date</th>\n",
       "      <th></th>\n",
       "      <th></th>\n",
       "    </tr>\n",
       "  </thead>\n",
       "  <tbody>\n",
       "    <tr>\n",
       "      <th>1986-03-13</th>\n",
       "      <td>0.061109</td>\n",
       "      <td>NaN</td>\n",
       "    </tr>\n",
       "    <tr>\n",
       "      <th>1986-03-14</th>\n",
       "      <td>0.063292</td>\n",
       "      <td>1.0</td>\n",
       "    </tr>\n",
       "    <tr>\n",
       "      <th>1986-03-17</th>\n",
       "      <td>0.064384</td>\n",
       "      <td>1.0</td>\n",
       "    </tr>\n",
       "    <tr>\n",
       "      <th>1986-03-18</th>\n",
       "      <td>0.062746</td>\n",
       "      <td>0.0</td>\n",
       "    </tr>\n",
       "    <tr>\n",
       "      <th>1986-03-19</th>\n",
       "      <td>0.061655</td>\n",
       "      <td>0.0</td>\n",
       "    </tr>\n",
       "  </tbody>\n",
       "</table>\n",
       "</div>"
      ],
      "text/plain": [
       "            Actual_Close  Target\n",
       "Date                            \n",
       "1986-03-13      0.061109     NaN\n",
       "1986-03-14      0.063292     1.0\n",
       "1986-03-17      0.064384     1.0\n",
       "1986-03-18      0.062746     0.0\n",
       "1986-03-19      0.061655     0.0"
      ]
     },
     "execution_count": 11,
     "metadata": {},
     "output_type": "execute_result"
    }
   ],
   "source": [
    "data.head()"
   ]
  },
  {
   "cell_type": "code",
   "execution_count": 12,
   "id": "177061c1-1bbb-4ab0-aa22-ad714b6dc848",
   "metadata": {},
   "outputs": [],
   "source": [
    "# Shift stock prices forward one day, so we're predicting tomorrow's stock prices from today's prices.\n",
    "msft_prev = msft_hist.copy()\n",
    "msft_prev = msft_prev.shift(1)"
   ]
  },
  {
   "cell_type": "code",
   "execution_count": 13,
   "id": "0e6ce7a0-bf9c-43b7-9c07-006412cd7418",
   "metadata": {},
   "outputs": [
    {
     "data": {
      "text/html": [
       "<div>\n",
       "<style scoped>\n",
       "    .dataframe tbody tr th:only-of-type {\n",
       "        vertical-align: middle;\n",
       "    }\n",
       "\n",
       "    .dataframe tbody tr th {\n",
       "        vertical-align: top;\n",
       "    }\n",
       "\n",
       "    .dataframe thead th {\n",
       "        text-align: right;\n",
       "    }\n",
       "</style>\n",
       "<table border=\"1\" class=\"dataframe\">\n",
       "  <thead>\n",
       "    <tr style=\"text-align: right;\">\n",
       "      <th></th>\n",
       "      <th>Open</th>\n",
       "      <th>High</th>\n",
       "      <th>Low</th>\n",
       "      <th>Close</th>\n",
       "      <th>Volume</th>\n",
       "      <th>Dividends</th>\n",
       "      <th>Stock Splits</th>\n",
       "    </tr>\n",
       "    <tr>\n",
       "      <th>Date</th>\n",
       "      <th></th>\n",
       "      <th></th>\n",
       "      <th></th>\n",
       "      <th></th>\n",
       "      <th></th>\n",
       "      <th></th>\n",
       "      <th></th>\n",
       "    </tr>\n",
       "  </thead>\n",
       "  <tbody>\n",
       "    <tr>\n",
       "      <th>1986-03-13</th>\n",
       "      <td>NaN</td>\n",
       "      <td>NaN</td>\n",
       "      <td>NaN</td>\n",
       "      <td>NaN</td>\n",
       "      <td>NaN</td>\n",
       "      <td>NaN</td>\n",
       "      <td>NaN</td>\n",
       "    </tr>\n",
       "    <tr>\n",
       "      <th>1986-03-14</th>\n",
       "      <td>0.055654</td>\n",
       "      <td>0.063838</td>\n",
       "      <td>0.055654</td>\n",
       "      <td>0.061109</td>\n",
       "      <td>1.031789e+09</td>\n",
       "      <td>0.0</td>\n",
       "      <td>0.0</td>\n",
       "    </tr>\n",
       "    <tr>\n",
       "      <th>1986-03-17</th>\n",
       "      <td>0.061109</td>\n",
       "      <td>0.064384</td>\n",
       "      <td>0.061109</td>\n",
       "      <td>0.063292</td>\n",
       "      <td>3.081600e+08</td>\n",
       "      <td>0.0</td>\n",
       "      <td>0.0</td>\n",
       "    </tr>\n",
       "    <tr>\n",
       "      <th>1986-03-18</th>\n",
       "      <td>0.063292</td>\n",
       "      <td>0.064929</td>\n",
       "      <td>0.063292</td>\n",
       "      <td>0.064384</td>\n",
       "      <td>1.331712e+08</td>\n",
       "      <td>0.0</td>\n",
       "      <td>0.0</td>\n",
       "    </tr>\n",
       "    <tr>\n",
       "      <th>1986-03-19</th>\n",
       "      <td>0.064384</td>\n",
       "      <td>0.064929</td>\n",
       "      <td>0.062201</td>\n",
       "      <td>0.062746</td>\n",
       "      <td>6.776640e+07</td>\n",
       "      <td>0.0</td>\n",
       "      <td>0.0</td>\n",
       "    </tr>\n",
       "  </tbody>\n",
       "</table>\n",
       "</div>"
      ],
      "text/plain": [
       "                Open      High       Low     Close        Volume  Dividends  \\\n",
       "Date                                                                          \n",
       "1986-03-13       NaN       NaN       NaN       NaN           NaN        NaN   \n",
       "1986-03-14  0.055654  0.063838  0.055654  0.061109  1.031789e+09        0.0   \n",
       "1986-03-17  0.061109  0.064384  0.061109  0.063292  3.081600e+08        0.0   \n",
       "1986-03-18  0.063292  0.064929  0.063292  0.064384  1.331712e+08        0.0   \n",
       "1986-03-19  0.064384  0.064929  0.062201  0.062746  6.776640e+07        0.0   \n",
       "\n",
       "            Stock Splits  \n",
       "Date                      \n",
       "1986-03-13           NaN  \n",
       "1986-03-14           0.0  \n",
       "1986-03-17           0.0  \n",
       "1986-03-18           0.0  \n",
       "1986-03-19           0.0  "
      ]
     },
     "execution_count": 13,
     "metadata": {},
     "output_type": "execute_result"
    }
   ],
   "source": [
    "msft_prev.head()"
   ]
  },
  {
   "cell_type": "code",
   "execution_count": 14,
   "id": "d6d607c6-8e6a-4c32-b4e0-8e3f4883f2b1",
   "metadata": {},
   "outputs": [],
   "source": [
    "# Create our training data\n",
    "predictors = [\"Close\", \"Volume\", \"Open\", \"High\", \"Low\"]\n",
    "data = data.join(msft_prev[predictors]).iloc[1:]"
   ]
  },
  {
   "cell_type": "code",
   "execution_count": 15,
   "id": "6af6a129-0404-4b72-8f43-a07722785b94",
   "metadata": {},
   "outputs": [
    {
     "data": {
      "text/html": [
       "<div>\n",
       "<style scoped>\n",
       "    .dataframe tbody tr th:only-of-type {\n",
       "        vertical-align: middle;\n",
       "    }\n",
       "\n",
       "    .dataframe tbody tr th {\n",
       "        vertical-align: top;\n",
       "    }\n",
       "\n",
       "    .dataframe thead th {\n",
       "        text-align: right;\n",
       "    }\n",
       "</style>\n",
       "<table border=\"1\" class=\"dataframe\">\n",
       "  <thead>\n",
       "    <tr style=\"text-align: right;\">\n",
       "      <th></th>\n",
       "      <th>Actual_Close</th>\n",
       "      <th>Target</th>\n",
       "      <th>Close</th>\n",
       "      <th>Volume</th>\n",
       "      <th>Open</th>\n",
       "      <th>High</th>\n",
       "      <th>Low</th>\n",
       "    </tr>\n",
       "    <tr>\n",
       "      <th>Date</th>\n",
       "      <th></th>\n",
       "      <th></th>\n",
       "      <th></th>\n",
       "      <th></th>\n",
       "      <th></th>\n",
       "      <th></th>\n",
       "      <th></th>\n",
       "    </tr>\n",
       "  </thead>\n",
       "  <tbody>\n",
       "    <tr>\n",
       "      <th>1986-03-14</th>\n",
       "      <td>0.063292</td>\n",
       "      <td>1.0</td>\n",
       "      <td>0.061109</td>\n",
       "      <td>1.031789e+09</td>\n",
       "      <td>0.055654</td>\n",
       "      <td>0.063838</td>\n",
       "      <td>0.055654</td>\n",
       "    </tr>\n",
       "    <tr>\n",
       "      <th>1986-03-17</th>\n",
       "      <td>0.064384</td>\n",
       "      <td>1.0</td>\n",
       "      <td>0.063292</td>\n",
       "      <td>3.081600e+08</td>\n",
       "      <td>0.061109</td>\n",
       "      <td>0.064384</td>\n",
       "      <td>0.061109</td>\n",
       "    </tr>\n",
       "    <tr>\n",
       "      <th>1986-03-18</th>\n",
       "      <td>0.062746</td>\n",
       "      <td>0.0</td>\n",
       "      <td>0.064384</td>\n",
       "      <td>1.331712e+08</td>\n",
       "      <td>0.063292</td>\n",
       "      <td>0.064929</td>\n",
       "      <td>0.063292</td>\n",
       "    </tr>\n",
       "    <tr>\n",
       "      <th>1986-03-19</th>\n",
       "      <td>0.061655</td>\n",
       "      <td>0.0</td>\n",
       "      <td>0.062746</td>\n",
       "      <td>6.776640e+07</td>\n",
       "      <td>0.064384</td>\n",
       "      <td>0.064929</td>\n",
       "      <td>0.062201</td>\n",
       "    </tr>\n",
       "    <tr>\n",
       "      <th>1986-03-20</th>\n",
       "      <td>0.060018</td>\n",
       "      <td>0.0</td>\n",
       "      <td>0.061655</td>\n",
       "      <td>4.789440e+07</td>\n",
       "      <td>0.062746</td>\n",
       "      <td>0.063292</td>\n",
       "      <td>0.061109</td>\n",
       "    </tr>\n",
       "  </tbody>\n",
       "</table>\n",
       "</div>"
      ],
      "text/plain": [
       "            Actual_Close  Target     Close        Volume      Open      High  \\\n",
       "Date                                                                           \n",
       "1986-03-14      0.063292     1.0  0.061109  1.031789e+09  0.055654  0.063838   \n",
       "1986-03-17      0.064384     1.0  0.063292  3.081600e+08  0.061109  0.064384   \n",
       "1986-03-18      0.062746     0.0  0.064384  1.331712e+08  0.063292  0.064929   \n",
       "1986-03-19      0.061655     0.0  0.062746  6.776640e+07  0.064384  0.064929   \n",
       "1986-03-20      0.060018     0.0  0.061655  4.789440e+07  0.062746  0.063292   \n",
       "\n",
       "                 Low  \n",
       "Date                  \n",
       "1986-03-14  0.055654  \n",
       "1986-03-17  0.061109  \n",
       "1986-03-18  0.063292  \n",
       "1986-03-19  0.062201  \n",
       "1986-03-20  0.061109  "
      ]
     },
     "execution_count": 15,
     "metadata": {},
     "output_type": "execute_result"
    }
   ],
   "source": [
    "data.head()"
   ]
  },
  {
   "cell_type": "code",
   "execution_count": 16,
   "id": "53e6da40-11c3-4e3a-8664-99778645ba88",
   "metadata": {},
   "outputs": [],
   "source": [
    "from sklearn.ensemble import RandomForestClassifier\n",
    "import numpy as np\n",
    "\n",
    "# Create a random forest classification model.  Set min_samples_split high to ensure we don't overfit.\n",
    "model = RandomForestClassifier(n_estimators=100, min_samples_split=200, random_state=1)"
   ]
  },
  {
   "cell_type": "code",
   "execution_count": 17,
   "id": "49d6fc99-e073-4db8-a6fe-49761d83a303",
   "metadata": {},
   "outputs": [
    {
     "data": {
      "text/plain": [
       "RandomForestClassifier(min_samples_split=200, random_state=1)"
      ]
     },
     "execution_count": 17,
     "metadata": {},
     "output_type": "execute_result"
    }
   ],
   "source": [
    "# Create a train and test set\n",
    "train = data.iloc[:-100]\n",
    "test = data.iloc[-100:]\n",
    "\n",
    "model.fit(train[predictors], train[\"Target\"])"
   ]
  },
  {
   "cell_type": "code",
   "execution_count": 18,
   "id": "e37937ab-f335-4891-a775-148e878be321",
   "metadata": {},
   "outputs": [
    {
     "data": {
      "text/plain": [
       "0.44680851063829785"
      ]
     },
     "execution_count": 18,
     "metadata": {},
     "output_type": "execute_result"
    }
   ],
   "source": [
    "from sklearn.metrics import precision_score\n",
    "\n",
    "# Evaluate error of predictions\n",
    "preds = model.predict(test[predictors])\n",
    "preds = pd.Series(preds, index=test.index)\n",
    "precision_score(test[\"Target\"], preds)"
   ]
  },
  {
   "cell_type": "code",
   "execution_count": 19,
   "id": "d991e601-278c-4f42-a337-193084748648",
   "metadata": {},
   "outputs": [
    {
     "data": {
      "text/plain": [
       "<AxesSubplot:xlabel='Date'>"
      ]
     },
     "execution_count": 19,
     "metadata": {},
     "output_type": "execute_result"
    },
    {
     "data": {
      "image/png": "[encoded data removed]",
      "text/plain": [
       "<Figure size 432x288 with 1 Axes>"
      ]
     },
     "metadata": {
      "needs_background": "light"
     },
     "output_type": "display_data"
    }
   ],
   "source": [
    "combined = pd.concat({\"Target\": test[\"Target\"],\"Predictions\": preds}, axis=1)\n",
    "combined.plot()"
   ]
  },
  {
   "cell_type": "code",
   "execution_count": 20,
   "id": "1ae6ecb6-b5b2-4b1d-97d6-90500dbf6725",
   "metadata": {},
   "outputs": [],
   "source": [
    "#take first 1000 rows of data as our training set, take next 750 rows as test set, fit ml model to training set, make preds on test set\n",
    "i = 1000\n",
    "step = 750\n",
    "\n",
    "train = data.iloc[0:i].copy()\n",
    "test = data.iloc[i:(i+step)].copy()\n",
    "model.fit(train[predictors], train[\"Target\"])\n",
    "preds = model.predict(test[predictors])"
   ]
  },
  {
   "cell_type": "code",
   "execution_count": 21,
   "id": "dbe32d5a-37ef-4146-b6c3-02c04e1de9b1",
   "metadata": {},
   "outputs": [],
   "source": [
    "# using predict_proba method to get probabilities that the price will go up stead of just 0/1\n",
    "# take second column of result to ensure that we only get the probability that the price goes up\n",
    "# convert resut from np array to pd Series (easier to work with)\n",
    "# if % chance that the price will go up is >60%, then say the price will go up\n",
    "preds = model.predict_proba(test[predictors])[:,1]\n",
    "preds = pd.Series(preds, index=test.index)\n",
    "preds[preds > .6] = 1\n",
    "preds[preds<=.6] = 0"
   ]
  },
  {
   "cell_type": "code",
   "execution_count": 22,
   "id": "bbeccdfc-dbe8-468b-9f9c-b0136bfd42f0",
   "metadata": {},
   "outputs": [
    {
     "data": {
      "text/plain": [
       "Date\n",
       "1990-02-27    1.0\n",
       "1990-02-28    1.0\n",
       "1990-03-01    1.0\n",
       "1990-03-02    1.0\n",
       "1990-03-05    1.0\n",
       "dtype: float64"
      ]
     },
     "execution_count": 22,
     "metadata": {},
     "output_type": "execute_result"
    }
   ],
   "source": [
    "preds.head()"
   ]
  },
  {
   "cell_type": "code",
   "execution_count": 24,
   "id": "115e963a-9172-49f7-83eb-cd73eb3afe87",
   "metadata": {},
   "outputs": [],
   "source": [
    "#put into loop\n",
    "#generate preds on our train and test set\n",
    "#combine preds with actual target\n",
    "#add all preds into one list\n",
    "\n",
    "predictions =[]\n",
    "#loop over entire dataset in increments\n",
    "for i in range(1000, data.shape[0], step):\n",
    "    #split into train and test sets\n",
    "    train = data.iloc[0:i].copy()\n",
    "    test = data.iloc[i:(i+step)].copy()\n",
    "    \n",
    "    #fit random forest model\n",
    "    model.fit(train[predictors], train[\"Target\"])\n",
    "    \n",
    "    #make preds\n",
    "    preds = model.predict_proba(test[predictors])[:,1]\n",
    "    preds = pd.Series(preds, index=test.index)\n",
    "    preds[ preds > .6] = 1\n",
    "    preds[preds <= .6] = 0\n",
    "    \n",
    "    #combine predictions and test values\n",
    "    combined = pd.concat({\"Target\": test[\"Target\"], \"Predictions\": preds}, axis=1)\n",
    "    \n",
    "    predictions.append(combined)"
   ]
  },
  {
   "cell_type": "code",
   "execution_count": 25,
   "id": "4d03ee15-ab39-455b-aa2c-a8a1ef0f83a4",
   "metadata": {},
   "outputs": [
    {
     "data": {
      "text/html": [
       "<div>\n",
       "<style scoped>\n",
       "    .dataframe tbody tr th:only-of-type {\n",
       "        vertical-align: middle;\n",
       "    }\n",
       "\n",
       "    .dataframe tbody tr th {\n",
       "        vertical-align: top;\n",
       "    }\n",
       "\n",
       "    .dataframe thead th {\n",
       "        text-align: right;\n",
       "    }\n",
       "</style>\n",
       "<table border=\"1\" class=\"dataframe\">\n",
       "  <thead>\n",
       "    <tr style=\"text-align: right;\">\n",
       "      <th></th>\n",
       "      <th>Target</th>\n",
       "      <th>Predictions</th>\n",
       "    </tr>\n",
       "    <tr>\n",
       "      <th>Date</th>\n",
       "      <th></th>\n",
       "      <th></th>\n",
       "    </tr>\n",
       "  </thead>\n",
       "  <tbody>\n",
       "    <tr>\n",
       "      <th>1990-02-27</th>\n",
       "      <td>0.0</td>\n",
       "      <td>1.0</td>\n",
       "    </tr>\n",
       "    <tr>\n",
       "      <th>1990-02-28</th>\n",
       "      <td>1.0</td>\n",
       "      <td>1.0</td>\n",
       "    </tr>\n",
       "    <tr>\n",
       "      <th>1990-03-01</th>\n",
       "      <td>1.0</td>\n",
       "      <td>1.0</td>\n",
       "    </tr>\n",
       "    <tr>\n",
       "      <th>1990-03-02</th>\n",
       "      <td>1.0</td>\n",
       "      <td>1.0</td>\n",
       "    </tr>\n",
       "    <tr>\n",
       "      <th>1990-03-05</th>\n",
       "      <td>1.0</td>\n",
       "      <td>1.0</td>\n",
       "    </tr>\n",
       "  </tbody>\n",
       "</table>\n",
       "</div>"
      ],
      "text/plain": [
       "            Target  Predictions\n",
       "Date                           \n",
       "1990-02-27     0.0          1.0\n",
       "1990-02-28     1.0          1.0\n",
       "1990-03-01     1.0          1.0\n",
       "1990-03-02     1.0          1.0\n",
       "1990-03-05     1.0          1.0"
      ]
     },
     "execution_count": 25,
     "metadata": {},
     "output_type": "execute_result"
    }
   ],
   "source": [
    "predictions[0].head()"
   ]
  },
  {
   "cell_type": "code",
   "execution_count": 26,
   "id": "afa2b1d3-2100-4ddf-8411-6abb448caca1",
   "metadata": {},
   "outputs": [],
   "source": [
    "# create backtesting function\n",
    "#split training and test data\n",
    "#train model\n",
    "#make predictions on test data using predict_proba\n",
    "#combine our predictions with the actual Target, so we can calculate error easily\n",
    "#return all of the predictions\n",
    "def backtest(data, model, predictors, start=1000, step=750):\n",
    "    predictions = []\n",
    "    # Loop over the dataset in increments\n",
    "    for i in range(start, data.shape[0], step):\n",
    "        # Split into train and test sets\n",
    "        train = data.iloc[0:i].copy()\n",
    "        test = data.iloc[i:(i+step)].copy()\n",
    "\n",
    "        # Fit the random forest model\n",
    "        model.fit(train[predictors], train[\"Target\"])\n",
    "\n",
    "        # Make predictions\n",
    "        preds = model.predict_proba(test[predictors])[:,1]\n",
    "        preds = pd.Series(preds, index=test.index)\n",
    "        preds[preds > .6] = 1\n",
    "        preds[preds<=.6] = 0\n",
    "\n",
    "        # Combine predictions and test values\n",
    "        combined = pd.concat({\"Target\": test[\"Target\"],\"Predictions\": preds}, axis=1)\n",
    "\n",
    "        predictions.append(combined)\n",
    "\n",
    "    return pd.concat(predictions)"
   ]
  },
  {
   "cell_type": "code",
   "execution_count": 27,
   "id": "8f8cc30d-0fee-4688-b7cf-09eb614ed014",
   "metadata": {},
   "outputs": [],
   "source": [
    "predictions = backtest(data, model, predictors)"
   ]
  },
  {
   "cell_type": "code",
   "execution_count": 28,
   "id": "6d959a42-e70a-435e-937d-9c08ea90df19",
   "metadata": {},
   "outputs": [
    {
     "data": {
      "text/plain": [
       "0.0    7385\n",
       "1.0     752\n",
       "Name: Predictions, dtype: int64"
      ]
     },
     "execution_count": 28,
     "metadata": {},
     "output_type": "execute_result"
    }
   ],
   "source": [
    "predictions[\"Predictions\"].value_counts()"
   ]
  },
  {
   "cell_type": "code",
   "execution_count": 29,
   "id": "fe5cac8d-f5a2-4701-a9b6-1422a29d38fd",
   "metadata": {},
   "outputs": [
    {
     "data": {
      "text/plain": [
       "1.0    4122\n",
       "0.0    4015\n",
       "Name: Target, dtype: int64"
      ]
     },
     "execution_count": 29,
     "metadata": {},
     "output_type": "execute_result"
    }
   ],
   "source": [
    "predictions[\"Target\"].value_counts()"
   ]
  },
  {
   "cell_type": "code",
   "execution_count": 30,
   "id": "6dab939c-839e-41d1-bf00-eb74f673c28c",
   "metadata": {},
   "outputs": [
    {
     "data": {
      "text/plain": [
       "0.4946808510638298"
      ]
     },
     "execution_count": 30,
     "metadata": {},
     "output_type": "execute_result"
    }
   ],
   "source": [
    "precision_score(predictions[\"Target\"], predictions[\"Predictions\"])"
   ]
  },
  {
   "cell_type": "code",
   "execution_count": 31,
   "id": "618e1826-daf2-48e6-aaa0-a5f36ea3ab4a",
   "metadata": {},
   "outputs": [],
   "source": [
    "weekly_mean = data.rolling(7).mean()[\"Close\"]\n",
    "quarterly_mean = data.rolling(90).mean()[\"Close\"]\n",
    "annual_mean = data.rolling(365).mean()[\"Close\"]"
   ]
  },
  {
   "cell_type": "code",
   "execution_count": 32,
   "id": "33243a1a-3ffc-467c-96ae-a850c5d787bf",
   "metadata": {},
   "outputs": [],
   "source": [
    "#tell the algorithm how many days in the last week the price has gone up. use shift and rolling methods\n",
    "#shift is used to not imcorporate info from current day into predictor\n",
    "weekly_trend = data.shift(1).rolling(7).sum()[\"Target\"]"
   ]
  },
  {
   "cell_type": "code",
   "execution_count": 33,
   "id": "5025847b-718e-4150-8c3b-e495116eee2f",
   "metadata": {},
   "outputs": [],
   "source": [
    "#add ratios into our predictor df\n",
    "data[\"weekly_mean\"] = weekly_mean / data[\"Close\"]\n",
    "data[\"quarterly_mean\"] = quarterly_mean / data[\"Close\"]\n",
    "data[\"annual_mean\"] = annual_mean / data[\"Close\"]"
   ]
  },
  {
   "cell_type": "code",
   "execution_count": 34,
   "id": "3f7560a6-29f6-49de-aff1-d457a757f599",
   "metadata": {},
   "outputs": [],
   "source": [
    "#add ratios between different rolling means, helps algorithm understand what the weekly trend is relative to annual trend\n",
    "data[\"annual_weekly_mean\"] = data[\"annual_mean\"] / data[\"weekly_mean\"]\n",
    "data[\"annual_quarterly_mean\"] = data[\"annual_mean\"] / data[\"quarterly_mean\"]"
   ]
  },
  {
   "cell_type": "code",
   "execution_count": 37,
   "id": "7e7a1a79-222f-4cf9-9807-03bd9b92492d",
   "metadata": {},
   "outputs": [
    {
     "data": {
      "text/html": [
       "<div>\n",
       "<style scoped>\n",
       "    .dataframe tbody tr th:only-of-type {\n",
       "        vertical-align: middle;\n",
       "    }\n",
       "\n",
       "    .dataframe tbody tr th {\n",
       "        vertical-align: top;\n",
       "    }\n",
       "\n",
       "    .dataframe thead th {\n",
       "        text-align: right;\n",
       "    }\n",
       "</style>\n",
       "<table border=\"1\" class=\"dataframe\">\n",
       "  <thead>\n",
       "    <tr style=\"text-align: right;\">\n",
       "      <th></th>\n",
       "      <th>Actual_Close</th>\n",
       "      <th>Target</th>\n",
       "      <th>Close</th>\n",
       "      <th>Volume</th>\n",
       "      <th>Open</th>\n",
       "      <th>High</th>\n",
       "      <th>Low</th>\n",
       "      <th>weekly_mean</th>\n",
       "      <th>quarterly_mean</th>\n",
       "      <th>annual_mean</th>\n",
       "      <th>annual_weekly_mean</th>\n",
       "      <th>annual_quarterly_mean</th>\n",
       "    </tr>\n",
       "    <tr>\n",
       "      <th>Date</th>\n",
       "      <th></th>\n",
       "      <th></th>\n",
       "      <th></th>\n",
       "      <th></th>\n",
       "      <th></th>\n",
       "      <th></th>\n",
       "      <th></th>\n",
       "      <th></th>\n",
       "      <th></th>\n",
       "      <th></th>\n",
       "      <th></th>\n",
       "      <th></th>\n",
       "    </tr>\n",
       "  </thead>\n",
       "  <tbody>\n",
       "    <tr>\n",
       "      <th>1986-03-14</th>\n",
       "      <td>0.063292</td>\n",
       "      <td>1.0</td>\n",
       "      <td>0.061109</td>\n",
       "      <td>1.031789e+09</td>\n",
       "      <td>0.055654</td>\n",
       "      <td>0.063838</td>\n",
       "      <td>0.055654</td>\n",
       "      <td>NaN</td>\n",
       "      <td>NaN</td>\n",
       "      <td>NaN</td>\n",
       "      <td>NaN</td>\n",
       "      <td>NaN</td>\n",
       "    </tr>\n",
       "    <tr>\n",
       "      <th>1986-03-17</th>\n",
       "      <td>0.064384</td>\n",
       "      <td>1.0</td>\n",
       "      <td>0.063292</td>\n",
       "      <td>3.081600e+08</td>\n",
       "      <td>0.061109</td>\n",
       "      <td>0.064384</td>\n",
       "      <td>0.061109</td>\n",
       "      <td>NaN</td>\n",
       "      <td>NaN</td>\n",
       "      <td>NaN</td>\n",
       "      <td>NaN</td>\n",
       "      <td>NaN</td>\n",
       "    </tr>\n",
       "    <tr>\n",
       "      <th>1986-03-18</th>\n",
       "      <td>0.062746</td>\n",
       "      <td>0.0</td>\n",
       "      <td>0.064384</td>\n",
       "      <td>1.331712e+08</td>\n",
       "      <td>0.063292</td>\n",
       "      <td>0.064929</td>\n",
       "      <td>0.063292</td>\n",
       "      <td>NaN</td>\n",
       "      <td>NaN</td>\n",
       "      <td>NaN</td>\n",
       "      <td>NaN</td>\n",
       "      <td>NaN</td>\n",
       "    </tr>\n",
       "    <tr>\n",
       "      <th>1986-03-19</th>\n",
       "      <td>0.061655</td>\n",
       "      <td>0.0</td>\n",
       "      <td>0.062746</td>\n",
       "      <td>6.776640e+07</td>\n",
       "      <td>0.064384</td>\n",
       "      <td>0.064929</td>\n",
       "      <td>0.062201</td>\n",
       "      <td>NaN</td>\n",
       "      <td>NaN</td>\n",
       "      <td>NaN</td>\n",
       "      <td>NaN</td>\n",
       "      <td>NaN</td>\n",
       "    </tr>\n",
       "    <tr>\n",
       "      <th>1986-03-20</th>\n",
       "      <td>0.060018</td>\n",
       "      <td>0.0</td>\n",
       "      <td>0.061655</td>\n",
       "      <td>4.789440e+07</td>\n",
       "      <td>0.062746</td>\n",
       "      <td>0.063292</td>\n",
       "      <td>0.061109</td>\n",
       "      <td>NaN</td>\n",
       "      <td>NaN</td>\n",
       "      <td>NaN</td>\n",
       "      <td>NaN</td>\n",
       "      <td>NaN</td>\n",
       "    </tr>\n",
       "    <tr>\n",
       "      <th>...</th>\n",
       "      <td>...</td>\n",
       "      <td>...</td>\n",
       "      <td>...</td>\n",
       "      <td>...</td>\n",
       "      <td>...</td>\n",
       "      <td>...</td>\n",
       "      <td>...</td>\n",
       "      <td>...</td>\n",
       "      <td>...</td>\n",
       "      <td>...</td>\n",
       "      <td>...</td>\n",
       "      <td>...</td>\n",
       "    </tr>\n",
       "    <tr>\n",
       "      <th>1986-07-30</th>\n",
       "      <td>0.062746</td>\n",
       "      <td>0.0</td>\n",
       "      <td>0.064929</td>\n",
       "      <td>1.405440e+07</td>\n",
       "      <td>0.066566</td>\n",
       "      <td>0.067111</td>\n",
       "      <td>0.063838</td>\n",
       "      <td>1.022808</td>\n",
       "      <td>1.026747</td>\n",
       "      <td>NaN</td>\n",
       "      <td>NaN</td>\n",
       "      <td>NaN</td>\n",
       "    </tr>\n",
       "    <tr>\n",
       "      <th>1986-07-31</th>\n",
       "      <td>0.062201</td>\n",
       "      <td>0.0</td>\n",
       "      <td>0.062746</td>\n",
       "      <td>2.640960e+07</td>\n",
       "      <td>0.064929</td>\n",
       "      <td>0.064929</td>\n",
       "      <td>0.060564</td>\n",
       "      <td>1.053421</td>\n",
       "      <td>1.063241</td>\n",
       "      <td>NaN</td>\n",
       "      <td>NaN</td>\n",
       "      <td>NaN</td>\n",
       "    </tr>\n",
       "    <tr>\n",
       "      <th>1986-08-01</th>\n",
       "      <td>0.061655</td>\n",
       "      <td>0.0</td>\n",
       "      <td>0.062201</td>\n",
       "      <td>1.563840e+07</td>\n",
       "      <td>0.062746</td>\n",
       "      <td>0.063292</td>\n",
       "      <td>0.062201</td>\n",
       "      <td>1.051383</td>\n",
       "      <td>1.073542</td>\n",
       "      <td>NaN</td>\n",
       "      <td>NaN</td>\n",
       "      <td>NaN</td>\n",
       "    </tr>\n",
       "    <tr>\n",
       "      <th>1986-08-04</th>\n",
       "      <td>0.061655</td>\n",
       "      <td>0.0</td>\n",
       "      <td>0.061655</td>\n",
       "      <td>1.290240e+07</td>\n",
       "      <td>0.062201</td>\n",
       "      <td>0.062746</td>\n",
       "      <td>0.061109</td>\n",
       "      <td>1.051836</td>\n",
       "      <td>1.083730</td>\n",
       "      <td>NaN</td>\n",
       "      <td>NaN</td>\n",
       "      <td>NaN</td>\n",
       "    </tr>\n",
       "    <tr>\n",
       "      <th>1986-08-05</th>\n",
       "      <td>0.061109</td>\n",
       "      <td>0.0</td>\n",
       "      <td>0.061655</td>\n",
       "      <td>1.244160e+07</td>\n",
       "      <td>0.061655</td>\n",
       "      <td>0.061655</td>\n",
       "      <td>0.060018</td>\n",
       "      <td>1.037929</td>\n",
       "      <td>1.084123</td>\n",
       "      <td>NaN</td>\n",
       "      <td>NaN</td>\n",
       "      <td>NaN</td>\n",
       "    </tr>\n",
       "  </tbody>\n",
       "</table>\n",
       "<p>100 rows × 12 columns</p>\n",
       "</div>"
      ],
      "text/plain": [
       "            Actual_Close  Target     Close        Volume      Open      High  \\\n",
       "Date                                                                           \n",
       "1986-03-14      0.063292     1.0  0.061109  1.031789e+09  0.055654  0.063838   \n",
       "1986-03-17      0.064384     1.0  0.063292  3.081600e+08  0.061109  0.064384   \n",
       "1986-03-18      0.062746     0.0  0.064384  1.331712e+08  0.063292  0.064929   \n",
       "1986-03-19      0.061655     0.0  0.062746  6.776640e+07  0.064384  0.064929   \n",
       "1986-03-20      0.060018     0.0  0.061655  4.789440e+07  0.062746  0.063292   \n",
       "...                  ...     ...       ...           ...       ...       ...   \n",
       "1986-07-30      0.062746     0.0  0.064929  1.405440e+07  0.066566  0.067111   \n",
       "1986-07-31      0.062201     0.0  0.062746  2.640960e+07  0.064929  0.064929   \n",
       "1986-08-01      0.061655     0.0  0.062201  1.563840e+07  0.062746  0.063292   \n",
       "1986-08-04      0.061655     0.0  0.061655  1.290240e+07  0.062201  0.062746   \n",
       "1986-08-05      0.061109     0.0  0.061655  1.244160e+07  0.061655  0.061655   \n",
       "\n",
       "                 Low  weekly_mean  quarterly_mean  annual_mean  \\\n",
       "Date                                                             \n",
       "1986-03-14  0.055654          NaN             NaN          NaN   \n",
       "1986-03-17  0.061109          NaN             NaN          NaN   \n",
       "1986-03-18  0.063292          NaN             NaN          NaN   \n",
       "1986-03-19  0.062201          NaN             NaN          NaN   \n",
       "1986-03-20  0.061109          NaN             NaN          NaN   \n",
       "...              ...          ...             ...          ...   \n",
       "1986-07-30  0.063838     1.022808        1.026747          NaN   \n",
       "1986-07-31  0.060564     1.053421        1.063241          NaN   \n",
       "1986-08-01  0.062201     1.051383        1.073542          NaN   \n",
       "1986-08-04  0.061109     1.051836        1.083730          NaN   \n",
       "1986-08-05  0.060018     1.037929        1.084123          NaN   \n",
       "\n",
       "            annual_weekly_mean  annual_quarterly_mean  \n",
       "Date                                                   \n",
       "1986-03-14                 NaN                    NaN  \n",
       "1986-03-17                 NaN                    NaN  \n",
       "1986-03-18                 NaN                    NaN  \n",
       "1986-03-19                 NaN                    NaN  \n",
       "1986-03-20                 NaN                    NaN  \n",
       "...                        ...                    ...  \n",
       "1986-07-30                 NaN                    NaN  \n",
       "1986-07-31                 NaN                    NaN  \n",
       "1986-08-01                 NaN                    NaN  \n",
       "1986-08-04                 NaN                    NaN  \n",
       "1986-08-05                 NaN                    NaN  \n",
       "\n",
       "[100 rows x 12 columns]"
      ]
     },
     "execution_count": 37,
     "metadata": {},
     "output_type": "execute_result"
    }
   ],
   "source": [
    "data.head(100)"
   ]
  },
  {
   "cell_type": "code",
   "execution_count": 39,
   "id": "284419a1-34ca-4fb9-ac9a-096d8a69e4f6",
   "metadata": {},
   "outputs": [],
   "source": [
    "#add weekly trend into predictor df\n",
    "data[\"weekly_trend\"] = weekly_trend"
   ]
  },
  {
   "cell_type": "code",
   "execution_count": 40,
   "id": "fa2a7422-1a86-480e-a906-fb774d756ca7",
   "metadata": {},
   "outputs": [],
   "source": [
    "#adding ratios between intraday open low and high prices and close price\n",
    "data[\"open_close_ratio\"] = data[\"Open\"] / data[\"Close\"]\n",
    "data[\"high_close_ratio\"] = data[\"High\"] / data[\"Close\"]\n",
    "data[\"low_close_ratio\"] = data[\"Low\"] / data[\"Close\"]"
   ]
  },
  {
   "cell_type": "code",
   "execution_count": 42,
   "id": "5d1253cc-7481-4943-839f-7cc849658af3",
   "metadata": {},
   "outputs": [],
   "source": [
    "#update predictors list with all the new preds we added\n",
    "full_predictors = predictors + [\"weekly_mean\", \"quarterly_mean\", \"annual_mean\", \"annual_weekly_mean\", \"annual_quarterly_mean\", \"open_close_ratio\", \"high_close_ratio\", \"low_close_ratio\"]\n"
   ]
  },
  {
   "cell_type": "code",
   "execution_count": 43,
   "id": "1587c08a-9be8-41e9-94d4-cedf7fb3247c",
   "metadata": {},
   "outputs": [],
   "source": [
    "predictions = backtest(data.iloc[365:], model, full_predictors)"
   ]
  },
  {
   "cell_type": "code",
   "execution_count": 44,
   "id": "9d9a78d2-a332-4af9-ac21-ec82da18c937",
   "metadata": {},
   "outputs": [
    {
     "data": {
      "text/plain": [
       "0.6236162361623616"
      ]
     },
     "execution_count": 44,
     "metadata": {},
     "output_type": "execute_result"
    }
   ],
   "source": [
    "precision_score(predictions[\"Target\"], predictions[\"Predictions\"])"
   ]
  },
  {
   "cell_type": "code",
   "execution_count": 45,
   "id": "52102039-5dc2-404d-b719-4f4cc41d8f64",
   "metadata": {},
   "outputs": [
    {
     "data": {
      "text/plain": [
       "0.0    7501\n",
       "1.0     271\n",
       "Name: Predictions, dtype: int64"
      ]
     },
     "execution_count": 45,
     "metadata": {},
     "output_type": "execute_result"
    }
   ],
   "source": [
    "# Show how many trades we would make\n",
    "\n",
    "predictions[\"Predictions\"].value_counts()"
   ]
  },
  {
   "cell_type": "code",
   "execution_count": 46,
   "id": "f47ddd2e-3c71-43d3-9510-993e7a41f0bd",
   "metadata": {},
   "outputs": [
    {
     "data": {
      "text/plain": [
       "<AxesSubplot:xlabel='Date'>"
      ]
     },
     "execution_count": 46,
     "metadata": {},
     "output_type": "execute_result"
    },
    {
     "data": {
      "image/png": "[encoded data removed]",
      "text/plain": [
       "<Figure size 432x288 with 1 Axes>"
      ]
     },
     "metadata": {
      "needs_background": "light"
     },
     "output_type": "display_data"
    }
   ],
   "source": [
    "# Look at trades we would have made in the last 100 days\n",
    "\n",
    "predictions.iloc[-100:].plot()"
   ]
  },
  {
   "cell_type": "code",
   "execution_count": null,
   "id": "777f8846-3767-47d9-8cdf-20041e6cd2b5",
   "metadata": {},
   "outputs": [],
   "source": []
  }
 ],
 "metadata": {
  "kernelspec": {
   "display_name": "Python 3",
   "language": "python",
   "name": "python3"
  },
  "language_info": {
   "codemirror_mode": {
    "name": "ipython",
    "version": 3
   },
   "file_extension": ".py",
   "mimetype": "text/x-python",
   "name": "python",
   "nbconvert_exporter": "python",
   "pygments_lexer": "ipython3",
   "version": "3.8.8"
  }
 },
 "nbformat": 4,
 "nbformat_minor": 5
}
